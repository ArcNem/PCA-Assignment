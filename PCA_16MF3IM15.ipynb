{
  "nbformat": 4,
  "nbformat_minor": 0,
  "metadata": {
    "anaconda-cloud": {},
    "colab": {
      "name": "Copy_of_PCA_16MF3IM15.ipynb",
      "version": "0.3.2",
      "provenance": [],
      "collapsed_sections": []
    },
    "kernelspec": {
      "display_name": "Python [default]",
      "language": "python",
      "name": "python3"
    },
    "language_info": {
      "codemirror_mode": {
        "name": "ipython",
        "version": 3
      },
      "file_extension": ".py",
      "mimetype": "text/x-python",
      "name": "python",
      "nbconvert_exporter": "python",
      "pygments_lexer": "ipython3",
      "version": "3.5.2"
    }
  },
  "cells": [
    {
      "cell_type": "code",
      "metadata": {
        "colab_type": "code",
        "id": "VJVJbttTvzn-",
        "colab": {
          "base_uri": "https://localhost:8080/",
          "height": 85
        },
        "outputId": "9f8c5a78-aaf2-48c5-8961-3b15150c1375"
      },
      "source": [
        "import numpy as np\n",
        "\n",
        "#Generate 5 dimensional dataset from three different gaussain Distributions for two different classes\n",
        "mean1 = [2,8,4,3,5]\n",
        "mean2 = (2,8,4,9,5)\n",
        "mean3 = (8,8,4,9,5)\n",
        "\n",
        "cov = [[2, 1, 1, 1, 1], \n",
        "       [1, 2, 0, 1, 0],\n",
        "       [0, 0, 2, 0, 0], \n",
        "       [1, 1, 0, 2, 0],\n",
        "       [0, 0, 0, 0, 2]] \n",
        "\n",
        "class1_sample = np.random.multivariate_normal(mean1, cov, size=100)\n",
        "assert class1_sample.shape == (100,5), \"The matrix has not the dimensions 5x20\"\n",
        "\n",
        "class2_sample = np.random.multivariate_normal(mean2, cov, size=100)\n",
        "assert class2_sample.shape == (100,5), \"The matrix has not the dimensions 5x20\"\n",
        "\n",
        "class3_sample = np.random.multivariate_normal(mean3, cov, size=100)\n",
        "assert class3_sample.shape == (100,5), \"The matrix has not the dimensions 5x20\""
      ],
      "execution_count": 1,
      "outputs": [
        {
          "output_type": "stream",
          "text": [
            "/usr/local/lib/python3.6/dist-packages/ipykernel_launcher.py:14: RuntimeWarning: covariance is not symmetric positive-semidefinite.\n",
            "  \n",
            "/usr/local/lib/python3.6/dist-packages/ipykernel_launcher.py:17: RuntimeWarning: covariance is not symmetric positive-semidefinite.\n",
            "/usr/local/lib/python3.6/dist-packages/ipykernel_launcher.py:20: RuntimeWarning: covariance is not symmetric positive-semidefinite.\n"
          ],
          "name": "stderr"
        }
      ]
    },
    {
      "cell_type": "code",
      "metadata": {
        "collapsed": true,
        "id": "AG7weqHMK1Kh",
        "colab_type": "code",
        "colab": {
          "base_uri": "https://localhost:8080/",
          "height": 1000
        },
        "outputId": "eda5a366-fc39-432e-f581-d9164c037a03"
      },
      "source": [
        "print(class1_sample)"
      ],
      "execution_count": 2,
      "outputs": [
        {
          "output_type": "stream",
          "text": [
            "[[-1.55739668e-01  8.48346608e+00  2.55635344e+00  2.54184826e+00\n",
            "   3.10723553e+00]\n",
            " [ 8.13073841e-01  7.00408581e+00 -2.76383954e-01  1.24972519e+00\n",
            "   6.75827122e+00]\n",
            " [ 1.57620634e+00  9.00005545e+00  8.22966926e-01  4.45312721e+00\n",
            "   3.20398414e+00]\n",
            " [ 8.77422423e-01  5.98606554e+00  3.35868284e+00  1.08602375e+00\n",
            "   5.75182537e+00]\n",
            " [ 3.19049276e+00  9.75552789e+00  3.02766521e+00  5.04510505e+00\n",
            "   6.60255070e+00]\n",
            " [ 1.73587649e+00  6.81424901e+00  4.92067455e+00  2.70476926e+00\n",
            "   6.51667012e+00]\n",
            " [ 1.07150452e+00  5.01079719e+00  2.67576751e+00  2.09011288e+00\n",
            "   5.41756606e+00]\n",
            " [ 3.43801022e+00  9.48006879e+00  4.32611703e+00  5.85410688e+00\n",
            "   5.67352091e+00]\n",
            " [ 3.20071712e+00  8.84166477e+00  4.34884594e+00  3.68483285e+00\n",
            "   5.95265928e+00]\n",
            " [ 2.06721119e+00  7.78226373e+00  3.58558558e+00  4.07942080e+00\n",
            "   6.02098831e+00]\n",
            " [ 5.27426237e-02  6.78074758e+00  6.52228099e+00  1.34126326e+00\n",
            "   4.50935556e+00]\n",
            " [ 3.07316711e+00  9.92290533e+00  3.33108684e+00  5.63370972e+00\n",
            "   4.05887862e+00]\n",
            " [ 2.08804326e+00  5.82200084e+00  5.63085125e+00  3.51728343e+00\n",
            "   6.02596351e+00]\n",
            " [ 2.83805587e+00  9.61720191e+00  4.60459603e+00  2.59815957e+00\n",
            "   4.39466027e+00]\n",
            " [ 3.60144246e+00  6.95003660e+00  4.89473495e+00  4.60740951e+00\n",
            "   3.65369860e+00]\n",
            " [-1.77118123e-01  5.67790587e+00  5.15532294e+00  1.49342177e+00\n",
            "   3.16777462e+00]\n",
            " [ 4.30611494e+00  1.02702866e+01  4.41655981e+00  5.54496162e+00\n",
            "   3.88235888e+00]\n",
            " [ 2.97609354e+00  7.91830110e+00  4.24966014e+00  3.15470203e+00\n",
            "   4.14779883e+00]\n",
            " [ 3.15389262e+00  7.17395360e+00  5.62070433e+00  5.00417271e+00\n",
            "   4.11490486e+00]\n",
            " [ 3.78034147e+00  1.02707262e+01  5.00462494e+00  5.07719528e+00\n",
            "   6.29680879e+00]\n",
            " [ 3.02389657e+00  7.80833983e+00  2.67560048e+00  2.33740533e+00\n",
            "   2.76607768e+00]\n",
            " [ 2.76750168e+00  7.08375036e+00  4.83735499e+00  4.60353544e+00\n",
            "   4.32403305e+00]\n",
            " [ 2.26761756e+00  8.46009317e+00  2.57555824e+00  3.18575959e+00\n",
            "   4.79905339e+00]\n",
            " [ 2.91557202e+00  8.86904462e+00  3.85771204e+00  1.93272635e+00\n",
            "   4.78778448e+00]\n",
            " [ 3.20556815e+00  7.58940514e+00  4.44221572e+00  2.54226872e+00\n",
            "   7.60730374e+00]\n",
            " [ 2.04637822e+00  8.30278767e+00  3.41291698e+00  3.54824200e+00\n",
            "   3.89396958e+00]\n",
            " [ 3.61649097e+00  7.73276265e+00  2.35265578e+00  3.19006080e+00\n",
            "   3.75241813e+00]\n",
            " [ 6.98883491e-02  9.72399782e+00  4.49136027e+00  3.55637513e+00\n",
            "   2.87627970e+00]\n",
            " [ 1.19276246e+00  8.01408805e+00  6.42161210e+00  3.33543226e+00\n",
            "   5.76132707e+00]\n",
            " [ 3.94611013e+00  8.13504210e+00  6.00023552e+00  2.08361615e+00\n",
            "   3.72780916e+00]\n",
            " [ 1.69794953e+00  6.69605335e+00  4.98341775e+00  5.03160312e-01\n",
            "   6.37217014e+00]\n",
            " [ 3.26907163e+00  8.28185509e+00  4.87659309e+00  2.81053258e+00\n",
            "   4.44266792e+00]\n",
            " [ 2.31906675e+00  6.95183737e+00  3.73738848e+00  2.82038139e+00\n",
            "   7.50758206e+00]\n",
            " [ 3.18417725e+00  9.27040104e+00  3.01549565e+00  2.05248430e+00\n",
            "   4.77580098e+00]\n",
            " [ 1.16260346e+00  7.31334752e+00  6.07852865e+00  3.86060373e+00\n",
            "   5.28504903e+00]\n",
            " [ 4.26580004e-03  9.52183680e+00  3.88773318e+00  1.63004821e+00\n",
            "   5.80443281e+00]\n",
            " [ 2.92768187e+00  9.27479170e+00  5.22886663e+00  4.06656701e+00\n",
            "   5.02724982e+00]\n",
            " [ 1.80333877e+00  6.97591350e+00  2.27976142e+00  3.50587919e+00\n",
            "   5.18059573e+00]\n",
            " [ 2.73810099e+00  1.01600550e+01  3.17726112e+00  3.61868438e+00\n",
            "   4.19397684e+00]\n",
            " [ 1.88384629e+00  9.52351993e+00  3.61657857e+00  4.43164114e+00\n",
            "   7.21965960e+00]\n",
            " [ 2.53794086e+00  9.94608648e+00  5.97252037e+00  5.24294168e+00\n",
            "   4.07710639e+00]\n",
            " [ 2.97705520e+00  6.95981941e+00  5.30414084e+00  3.81856900e+00\n",
            "   6.21128257e+00]\n",
            " [ 2.96115187e+00  8.50629133e+00  5.22326161e+00  3.37702511e+00\n",
            "   6.08806719e+00]\n",
            " [ 2.52755083e+00  7.61388724e+00  5.50013493e+00  4.55146407e+00\n",
            "   5.19724717e+00]\n",
            " [ 1.28219499e+00  6.84771329e+00  2.46446129e+00  2.82342988e+00\n",
            "   2.80063869e+00]\n",
            " [ 1.74408789e+00  6.99339595e+00  1.49379307e+00  2.78490161e+00\n",
            "   6.77847384e+00]\n",
            " [ 3.48222402e+00  8.86627304e+00  6.21146908e+00  3.42763719e+00\n",
            "   3.94413806e+00]\n",
            " [ 3.89143194e+00  6.40498892e+00  4.34835360e+00  3.60565173e+00\n",
            "   6.22000216e+00]\n",
            " [ 2.31548000e+00  1.02887851e+01  4.33809925e+00  3.99079526e+00\n",
            "   5.00437970e+00]\n",
            " [ 2.11821734e+00  8.00880813e+00  3.74562068e+00  2.25343029e+00\n",
            "   4.86047269e+00]\n",
            " [ 2.41236335e+00  8.74116460e+00  3.57766026e+00  5.29054339e-01\n",
            "   4.30667553e+00]\n",
            " [ 1.68922117e+00  8.59091176e+00  3.11909414e+00  2.93436329e+00\n",
            "   5.77842904e+00]\n",
            " [ 3.18902088e+00  1.09209280e+01  3.12509238e+00  3.71838808e+00\n",
            "   7.25076250e+00]\n",
            " [ 4.91651053e+00  8.93204553e+00  4.66639162e+00  3.54917168e+00\n",
            "   6.26608289e+00]\n",
            " [ 4.50281476e+00  8.87072057e+00  5.36488704e+00  2.05578463e+00\n",
            "   4.60736322e+00]\n",
            " [ 3.45570148e+00  7.31258385e+00  5.89766685e+00  3.29435570e+00\n",
            "   6.01340078e+00]\n",
            " [ 2.82221887e+00  9.17378896e+00  4.25061270e+00  2.45164831e+00\n",
            "   5.17081911e+00]\n",
            " [ 2.33778259e+00  9.82981662e+00  5.78322259e+00  1.70412227e+00\n",
            "   3.91814614e+00]\n",
            " [ 2.44450753e+00  8.24984590e+00  6.22722336e+00  3.61032734e+00\n",
            "   6.96017843e+00]\n",
            " [ 2.93466858e+00  7.65732337e+00  2.91662660e+00  4.25297658e+00\n",
            "   6.03657061e+00]\n",
            " [ 3.24550487e-01  8.02409069e+00  2.50047775e+00  2.46956878e+00\n",
            "   4.76611588e+00]\n",
            " [ 3.17912058e+00  7.12834734e+00  2.82340828e+00  3.59954684e+00\n",
            "   5.10182457e+00]\n",
            " [ 1.56203981e+00  6.25714101e+00  5.69850815e+00  2.24668763e-01\n",
            "   5.37127112e+00]\n",
            " [ 2.92332150e+00  9.06824790e+00  3.10147227e+00  3.88023123e+00\n",
            "   4.60929087e+00]\n",
            " [ 2.76444465e+00  9.14500671e+00  5.69606471e+00  2.78626431e+00\n",
            "   3.96352135e+00]\n",
            " [ 3.70210299e+00  8.26941634e+00  3.71007486e+00  2.35565902e+00\n",
            "   6.39848186e+00]\n",
            " [ 1.08030706e+00  7.84711052e+00  4.12024088e+00  2.16761136e+00\n",
            "   6.03886268e+00]\n",
            " [ 2.73578400e+00  8.21314274e+00  6.68021363e+00  3.42635696e-02\n",
            "   4.61333368e+00]\n",
            " [ 1.64354228e+00  7.27972447e+00  3.33341738e+00  2.77700242e+00\n",
            "   4.10979764e+00]\n",
            " [ 3.72866706e+00  6.85407681e+00  4.31985116e+00  5.82527036e+00\n",
            "   5.14653980e+00]\n",
            " [ 1.39856685e+00  8.63013543e+00  4.65222771e+00  1.89359413e+00\n",
            "   3.27761569e+00]\n",
            " [ 2.68293849e+00  7.09846260e+00  4.08597923e+00  2.87525453e+00\n",
            "   5.94804908e+00]\n",
            " [ 4.73361135e-01  6.31184413e+00  5.56310471e+00  1.17387124e+00\n",
            "   6.63662147e+00]\n",
            " [ 2.29055825e+00  8.31307771e+00  4.20746214e+00  4.04316461e+00\n",
            "   5.54286851e+00]\n",
            " [ 1.10146316e+00  5.99328536e+00  3.69700549e+00  1.03269338e+00\n",
            "   5.50015689e+00]\n",
            " [ 3.01779411e+00  6.58223517e+00  6.42831842e+00  3.58919326e+00\n",
            "   8.61995198e+00]\n",
            " [ 2.58492218e+00  7.40004357e+00  5.65922132e+00  2.71124606e+00\n",
            "   6.91461585e+00]\n",
            " [ 2.16364971e+00  8.49695465e+00  3.84502425e+00  2.42324077e+00\n",
            "   3.15175054e+00]\n",
            " [ 2.11746894e+00  9.41221804e+00  4.51342276e+00  4.36039834e+00\n",
            "   4.40268470e+00]\n",
            " [ 1.32412698e+00  7.90686390e+00  3.97670025e+00  3.04847748e+00\n",
            "   2.78121227e+00]\n",
            " [ 1.94704473e+00  5.19918265e+00  4.84761519e+00  2.70361574e+00\n",
            "   3.00879440e+00]\n",
            " [ 3.68982140e+00  1.04454539e+01  5.18445985e+00  4.33098554e+00\n",
            "   7.91223591e+00]\n",
            " [ 4.28631035e-01  7.67521483e+00  6.05556417e+00  2.18402903e+00\n",
            "   4.15652640e+00]\n",
            " [ 2.72293440e+00  6.39589616e+00  3.76278044e+00  4.36270944e+00\n",
            "   5.79544506e+00]\n",
            " [ 1.48053106e+00  7.02951195e+00  4.08482768e+00  1.70295823e+00\n",
            "   3.62277849e+00]\n",
            " [ 1.86389253e+00  8.45860222e+00  2.93017776e+00  3.92559947e+00\n",
            "   1.90811695e+00]\n",
            " [ 4.15844306e-01  7.86542151e+00  3.75141145e+00  3.14949093e+00\n",
            "   3.54524820e+00]\n",
            " [-7.90885226e-01  5.05623538e+00  2.25148049e+00  3.14773385e+00\n",
            "   2.33789180e+00]\n",
            " [ 4.56966633e+00  1.07326504e+01  6.02159391e+00  4.55595273e+00\n",
            "   5.52519288e+00]\n",
            " [ 2.34936757e+00  7.66072567e+00  4.24321828e+00  1.56435716e+00\n",
            "   5.36874914e+00]\n",
            " [ 3.57233658e+00  8.89485851e+00  6.34741608e+00  3.25763093e+00\n",
            "   6.31817005e+00]\n",
            " [ 6.41443285e-01  8.35636879e+00  2.55139452e+00  2.47955087e+00\n",
            "   4.69366335e+00]\n",
            " [ 1.83514400e+00  8.37771322e+00  3.41990368e+00  9.52939199e-01\n",
            "   5.35861694e+00]\n",
            " [-1.01863016e+00  5.34398808e+00  3.68387475e+00 -6.82939407e-01\n",
            "   6.39945762e+00]\n",
            " [ 3.19421871e+00  9.54700626e+00  3.09544332e+00  4.36141785e+00\n",
            "   3.78310420e+00]\n",
            " [ 3.55119110e+00  7.91410436e+00  5.36976537e+00  3.83626544e+00\n",
            "   6.11999544e+00]\n",
            " [ 1.16955474e+00  8.15163653e+00  2.33971928e+00  6.61649801e-01\n",
            "   4.19848552e+00]\n",
            " [ 1.73356500e-01  8.08401209e+00  3.76870422e+00  2.29340669e+00\n",
            "   4.93343571e+00]\n",
            " [ 8.77851256e-02  7.71447643e+00  1.25700608e+00  1.47416119e+00\n",
            "   3.47066213e+00]\n",
            " [-3.25996863e-01  6.08433918e+00  5.27227317e+00  1.54972685e+00\n",
            "   4.27388662e+00]]\n"
          ],
          "name": "stdout"
        }
      ]
    },
    {
      "cell_type": "code",
      "metadata": {
        "colab_type": "code",
        "id": "Sq7fPoaMwsp4",
        "outputId": "16d89a38-c951-4713-ef20-111f5889a433",
        "scrolled": true,
        "colab": {
          "base_uri": "https://localhost:8080/",
          "height": 534
        }
      },
      "source": [
        "#Plot the data for any three dimension (Optional)\n",
        "%pylab inline\n",
        "from matplotlib import pyplot as plt\n",
        "from mpl_toolkits.mplot3d import Axes3D\n",
        "from mpl_toolkits.mplot3d import proj3d\n",
        "\n",
        "fig = plt.figure(figsize=(8,8))\n",
        "ax = fig.add_subplot(111, projection='3d')\n",
        "plt.rcParams['legend.fontsize'] = 10   \n",
        "ax.plot(class1_sample[0,:], class1_sample[1,:], class1_sample[2,:], 'o', markersize=8, color='blue', alpha=0.5, label='class1')\n",
        "ax.plot(class2_sample[0,:], class2_sample[1,:], class2_sample[2,:], '^', markersize=8, alpha=0.5, color='red', label='class2')\n",
        "\n",
        "plt.title('Samples for class 1 and class 2')\n",
        "ax.legend(loc='upper right')\n",
        "\n",
        "plt.show()"
      ],
      "execution_count": 3,
      "outputs": [
        {
          "output_type": "stream",
          "text": [
            "Populating the interactive namespace from numpy and matplotlib\n"
          ],
          "name": "stdout"
        },
        {
          "output_type": "stream",
          "text": [
            "/usr/local/lib/python3.6/dist-packages/IPython/core/magics/pylab.py:161: UserWarning: pylab import has clobbered these variables: ['cov']\n",
            "`%matplotlib` prevents importing * from pylab and numpy\n",
            "  \"\\n`%matplotlib` prevents importing * from pylab and numpy\"\n"
          ],
          "name": "stderr"
        },
        {
          "output_type": "display_data",
          "data": {
            "image/png": "[encoded data removed]",
            "text/plain": [
              "<Figure size 576x576 with 1 Axes>"
            ]
          },
          "metadata": {
            "tags": []
          }
        }
      ]
    },
    {
      "cell_type": "code",
      "metadata": {
        "id": "842V-eoPK1Kp",
        "colab_type": "code",
        "colab": {}
      },
      "source": [
        "import pandas as pd\n",
        "\n",
        "df1 = pd.DataFrame(data=class1_sample, index=np.arange(1, 101),columns=np.arange(1, 6))\n",
        "df1['class'] = 1\n",
        "\n",
        "df2 = pd.DataFrame(data=class2_sample, index=np.arange(1, 101),columns=np.arange(1, 6))\n",
        "df2['class'] = 2\n",
        "\n",
        "df3 = pd.DataFrame(data=class3_sample, index=np.arange(1, 101),columns=np.arange(1, 6))\n",
        "df3['class'] = 3"
      ],
      "execution_count": 0,
      "outputs": []
    },
    {
      "cell_type": "code",
      "metadata": {
        "id": "aCcuabTiK1Ks",
        "colab_type": "code",
        "colab": {}
      },
      "source": [
        "df_final = df1.append([df2, df3], ignore_index=True)"
      ],
      "execution_count": 0,
      "outputs": []
    },
    {
      "cell_type": "code",
      "metadata": {
        "collapsed": true,
        "id": "6PFAx2NcK1Ku",
        "colab_type": "code",
        "colab": {
          "base_uri": "https://localhost:8080/",
          "height": 1000
        },
        "outputId": "21ee8b5e-3ac6-484d-a00b-f28ecd77ccab"
      },
      "source": [
        "df_final"
      ],
      "execution_count": 6,
      "outputs": [
        {
          "output_type": "execute_result",
          "data": {
            "text/html": [
              "<div>\n",
              "<style scoped>\n",
              "    .dataframe tbody tr th:only-of-type {\n",
              "        vertical-align: middle;\n",
              "    }\n",
              "\n",
              "    .dataframe tbody tr th {\n",
              "        vertical-align: top;\n",
              "    }\n",
              "\n",
              "    .dataframe thead th {\n",
              "        text-align: right;\n",
              "    }\n",
              "</style>\n",
              "<table border=\"1\" class=\"dataframe\">\n",
              "  <thead>\n",
              "    <tr style=\"text-align: right;\">\n",
              "      <th></th>\n",
              "      <th>1</th>\n",
              "      <th>2</th>\n",
              "      <th>3</th>\n",
              "      <th>4</th>\n",
              "      <th>5</th>\n",
              "      <th>class</th>\n",
              "    </tr>\n",
              "  </thead>\n",
              "  <tbody>\n",
              "    <tr>\n",
              "      <th>0</th>\n",
              "      <td>-0.155740</td>\n",
              "      <td>8.483466</td>\n",
              "      <td>2.556353</td>\n",
              "      <td>2.541848</td>\n",
              "      <td>3.107236</td>\n",
              "      <td>1</td>\n",
              "    </tr>\n",
              "    <tr>\n",
              "      <th>1</th>\n",
              "      <td>0.813074</td>\n",
              "      <td>7.004086</td>\n",
              "      <td>-0.276384</td>\n",
              "      <td>1.249725</td>\n",
              "      <td>6.758271</td>\n",
              "      <td>1</td>\n",
              "    </tr>\n",
              "    <tr>\n",
              "      <th>2</th>\n",
              "      <td>1.576206</td>\n",
              "      <td>9.000055</td>\n",
              "      <td>0.822967</td>\n",
              "      <td>4.453127</td>\n",
              "      <td>3.203984</td>\n",
              "      <td>1</td>\n",
              "    </tr>\n",
              "    <tr>\n",
              "      <th>3</th>\n",
              "      <td>0.877422</td>\n",
              "      <td>5.986066</td>\n",
              "      <td>3.358683</td>\n",
              "      <td>1.086024</td>\n",
              "      <td>5.751825</td>\n",
              "      <td>1</td>\n",
              "    </tr>\n",
              "    <tr>\n",
              "      <th>4</th>\n",
              "      <td>3.190493</td>\n",
              "      <td>9.755528</td>\n",
              "      <td>3.027665</td>\n",
              "      <td>5.045105</td>\n",
              "      <td>6.602551</td>\n",
              "      <td>1</td>\n",
              "    </tr>\n",
              "    <tr>\n",
              "      <th>5</th>\n",
              "      <td>1.735876</td>\n",
              "      <td>6.814249</td>\n",
              "      <td>4.920675</td>\n",
              "      <td>2.704769</td>\n",
              "      <td>6.516670</td>\n",
              "      <td>1</td>\n",
              "    </tr>\n",
              "    <tr>\n",
              "      <th>6</th>\n",
              "      <td>1.071505</td>\n",
              "      <td>5.010797</td>\n",
              "      <td>2.675768</td>\n",
              "      <td>2.090113</td>\n",
              "      <td>5.417566</td>\n",
              "      <td>1</td>\n",
              "    </tr>\n",
              "    <tr>\n",
              "      <th>7</th>\n",
              "      <td>3.438010</td>\n",
              "      <td>9.480069</td>\n",
              "      <td>4.326117</td>\n",
              "      <td>5.854107</td>\n",
              "      <td>5.673521</td>\n",
              "      <td>1</td>\n",
              "    </tr>\n",
              "    <tr>\n",
              "      <th>8</th>\n",
              "      <td>3.200717</td>\n",
              "      <td>8.841665</td>\n",
              "      <td>4.348846</td>\n",
              "      <td>3.684833</td>\n",
              "      <td>5.952659</td>\n",
              "      <td>1</td>\n",
              "    </tr>\n",
              "    <tr>\n",
              "      <th>9</th>\n",
              "      <td>2.067211</td>\n",
              "      <td>7.782264</td>\n",
              "      <td>3.585586</td>\n",
              "      <td>4.079421</td>\n",
              "      <td>6.020988</td>\n",
              "      <td>1</td>\n",
              "    </tr>\n",
              "    <tr>\n",
              "      <th>10</th>\n",
              "      <td>0.052743</td>\n",
              "      <td>6.780748</td>\n",
              "      <td>6.522281</td>\n",
              "      <td>1.341263</td>\n",
              "      <td>4.509356</td>\n",
              "      <td>1</td>\n",
              "    </tr>\n",
              "    <tr>\n",
              "      <th>11</th>\n",
              "      <td>3.073167</td>\n",
              "      <td>9.922905</td>\n",
              "      <td>3.331087</td>\n",
              "      <td>5.633710</td>\n",
              "      <td>4.058879</td>\n",
              "      <td>1</td>\n",
              "    </tr>\n",
              "    <tr>\n",
              "      <th>12</th>\n",
              "      <td>2.088043</td>\n",
              "      <td>5.822001</td>\n",
              "      <td>5.630851</td>\n",
              "      <td>3.517283</td>\n",
              "      <td>6.025964</td>\n",
              "      <td>1</td>\n",
              "    </tr>\n",
              "    <tr>\n",
              "      <th>13</th>\n",
              "      <td>2.838056</td>\n",
              "      <td>9.617202</td>\n",
              "      <td>4.604596</td>\n",
              "      <td>2.598160</td>\n",
              "      <td>4.394660</td>\n",
              "      <td>1</td>\n",
              "    </tr>\n",
              "    <tr>\n",
              "      <th>14</th>\n",
              "      <td>3.601442</td>\n",
              "      <td>6.950037</td>\n",
              "      <td>4.894735</td>\n",
              "      <td>4.607410</td>\n",
              "      <td>3.653699</td>\n",
              "      <td>1</td>\n",
              "    </tr>\n",
              "    <tr>\n",
              "      <th>15</th>\n",
              "      <td>-0.177118</td>\n",
              "      <td>5.677906</td>\n",
              "      <td>5.155323</td>\n",
              "      <td>1.493422</td>\n",
              "      <td>3.167775</td>\n",
              "      <td>1</td>\n",
              "    </tr>\n",
              "    <tr>\n",
              "      <th>16</th>\n",
              "      <td>4.306115</td>\n",
              "      <td>10.270287</td>\n",
              "      <td>4.416560</td>\n",
              "      <td>5.544962</td>\n",
              "      <td>3.882359</td>\n",
              "      <td>1</td>\n",
              "    </tr>\n",
              "    <tr>\n",
              "      <th>17</th>\n",
              "      <td>2.976094</td>\n",
              "      <td>7.918301</td>\n",
              "      <td>4.249660</td>\n",
              "      <td>3.154702</td>\n",
              "      <td>4.147799</td>\n",
              "      <td>1</td>\n",
              "    </tr>\n",
              "    <tr>\n",
              "      <th>18</th>\n",
              "      <td>3.153893</td>\n",
              "      <td>7.173954</td>\n",
              "      <td>5.620704</td>\n",
              "      <td>5.004173</td>\n",
              "      <td>4.114905</td>\n",
              "      <td>1</td>\n",
              "    </tr>\n",
              "    <tr>\n",
              "      <th>19</th>\n",
              "      <td>3.780341</td>\n",
              "      <td>10.270726</td>\n",
              "      <td>5.004625</td>\n",
              "      <td>5.077195</td>\n",
              "      <td>6.296809</td>\n",
              "      <td>1</td>\n",
              "    </tr>\n",
              "    <tr>\n",
              "      <th>20</th>\n",
              "      <td>3.023897</td>\n",
              "      <td>7.808340</td>\n",
              "      <td>2.675600</td>\n",
              "      <td>2.337405</td>\n",
              "      <td>2.766078</td>\n",
              "      <td>1</td>\n",
              "    </tr>\n",
              "    <tr>\n",
              "      <th>21</th>\n",
              "      <td>2.767502</td>\n",
              "      <td>7.083750</td>\n",
              "      <td>4.837355</td>\n",
              "      <td>4.603535</td>\n",
              "      <td>4.324033</td>\n",
              "      <td>1</td>\n",
              "    </tr>\n",
              "    <tr>\n",
              "      <th>22</th>\n",
              "      <td>2.267618</td>\n",
              "      <td>8.460093</td>\n",
              "      <td>2.575558</td>\n",
              "      <td>3.185760</td>\n",
              "      <td>4.799053</td>\n",
              "      <td>1</td>\n",
              "    </tr>\n",
              "    <tr>\n",
              "      <th>23</th>\n",
              "      <td>2.915572</td>\n",
              "      <td>8.869045</td>\n",
              "      <td>3.857712</td>\n",
              "      <td>1.932726</td>\n",
              "      <td>4.787784</td>\n",
              "      <td>1</td>\n",
              "    </tr>\n",
              "    <tr>\n",
              "      <th>24</th>\n",
              "      <td>3.205568</td>\n",
              "      <td>7.589405</td>\n",
              "      <td>4.442216</td>\n",
              "      <td>2.542269</td>\n",
              "      <td>7.607304</td>\n",
              "      <td>1</td>\n",
              "    </tr>\n",
              "    <tr>\n",
              "      <th>25</th>\n",
              "      <td>2.046378</td>\n",
              "      <td>8.302788</td>\n",
              "      <td>3.412917</td>\n",
              "      <td>3.548242</td>\n",
              "      <td>3.893970</td>\n",
              "      <td>1</td>\n",
              "    </tr>\n",
              "    <tr>\n",
              "      <th>26</th>\n",
              "      <td>3.616491</td>\n",
              "      <td>7.732763</td>\n",
              "      <td>2.352656</td>\n",
              "      <td>3.190061</td>\n",
              "      <td>3.752418</td>\n",
              "      <td>1</td>\n",
              "    </tr>\n",
              "    <tr>\n",
              "      <th>27</th>\n",
              "      <td>0.069888</td>\n",
              "      <td>9.723998</td>\n",
              "      <td>4.491360</td>\n",
              "      <td>3.556375</td>\n",
              "      <td>2.876280</td>\n",
              "      <td>1</td>\n",
              "    </tr>\n",
              "    <tr>\n",
              "      <th>28</th>\n",
              "      <td>1.192762</td>\n",
              "      <td>8.014088</td>\n",
              "      <td>6.421612</td>\n",
              "      <td>3.335432</td>\n",
              "      <td>5.761327</td>\n",
              "      <td>1</td>\n",
              "    </tr>\n",
              "    <tr>\n",
              "      <th>29</th>\n",
              "      <td>3.946110</td>\n",
              "      <td>8.135042</td>\n",
              "      <td>6.000236</td>\n",
              "      <td>2.083616</td>\n",
              "      <td>3.727809</td>\n",
              "      <td>1</td>\n",
              "    </tr>\n",
              "    <tr>\n",
              "      <th>...</th>\n",
              "      <td>...</td>\n",
              "      <td>...</td>\n",
              "      <td>...</td>\n",
              "      <td>...</td>\n",
              "      <td>...</td>\n",
              "      <td>...</td>\n",
              "    </tr>\n",
              "    <tr>\n",
              "      <th>270</th>\n",
              "      <td>6.088490</td>\n",
              "      <td>4.079099</td>\n",
              "      <td>5.316566</td>\n",
              "      <td>8.044092</td>\n",
              "      <td>5.544681</td>\n",
              "      <td>3</td>\n",
              "    </tr>\n",
              "    <tr>\n",
              "      <th>271</th>\n",
              "      <td>7.195566</td>\n",
              "      <td>8.491798</td>\n",
              "      <td>3.530235</td>\n",
              "      <td>8.821097</td>\n",
              "      <td>4.199531</td>\n",
              "      <td>3</td>\n",
              "    </tr>\n",
              "    <tr>\n",
              "      <th>272</th>\n",
              "      <td>7.307413</td>\n",
              "      <td>8.833002</td>\n",
              "      <td>5.712984</td>\n",
              "      <td>10.194623</td>\n",
              "      <td>5.510956</td>\n",
              "      <td>3</td>\n",
              "    </tr>\n",
              "    <tr>\n",
              "      <th>273</th>\n",
              "      <td>9.195777</td>\n",
              "      <td>7.397461</td>\n",
              "      <td>1.595759</td>\n",
              "      <td>9.326886</td>\n",
              "      <td>7.198324</td>\n",
              "      <td>3</td>\n",
              "    </tr>\n",
              "    <tr>\n",
              "      <th>274</th>\n",
              "      <td>8.164763</td>\n",
              "      <td>6.557178</td>\n",
              "      <td>5.434893</td>\n",
              "      <td>8.248332</td>\n",
              "      <td>3.702927</td>\n",
              "      <td>3</td>\n",
              "    </tr>\n",
              "    <tr>\n",
              "      <th>275</th>\n",
              "      <td>7.452873</td>\n",
              "      <td>7.900927</td>\n",
              "      <td>1.865079</td>\n",
              "      <td>8.788873</td>\n",
              "      <td>3.895226</td>\n",
              "      <td>3</td>\n",
              "    </tr>\n",
              "    <tr>\n",
              "      <th>276</th>\n",
              "      <td>6.870607</td>\n",
              "      <td>7.720663</td>\n",
              "      <td>3.677573</td>\n",
              "      <td>8.036517</td>\n",
              "      <td>5.169959</td>\n",
              "      <td>3</td>\n",
              "    </tr>\n",
              "    <tr>\n",
              "      <th>277</th>\n",
              "      <td>10.448214</td>\n",
              "      <td>10.100558</td>\n",
              "      <td>7.476575</td>\n",
              "      <td>10.558237</td>\n",
              "      <td>6.214022</td>\n",
              "      <td>3</td>\n",
              "    </tr>\n",
              "    <tr>\n",
              "      <th>278</th>\n",
              "      <td>6.954502</td>\n",
              "      <td>9.897524</td>\n",
              "      <td>3.346118</td>\n",
              "      <td>10.294507</td>\n",
              "      <td>5.811168</td>\n",
              "      <td>3</td>\n",
              "    </tr>\n",
              "    <tr>\n",
              "      <th>279</th>\n",
              "      <td>8.118941</td>\n",
              "      <td>7.054282</td>\n",
              "      <td>4.418001</td>\n",
              "      <td>8.962460</td>\n",
              "      <td>4.578056</td>\n",
              "      <td>3</td>\n",
              "    </tr>\n",
              "    <tr>\n",
              "      <th>280</th>\n",
              "      <td>7.289555</td>\n",
              "      <td>6.317710</td>\n",
              "      <td>2.078047</td>\n",
              "      <td>8.222443</td>\n",
              "      <td>4.799715</td>\n",
              "      <td>3</td>\n",
              "    </tr>\n",
              "    <tr>\n",
              "      <th>281</th>\n",
              "      <td>9.568364</td>\n",
              "      <td>10.089069</td>\n",
              "      <td>2.299612</td>\n",
              "      <td>11.381471</td>\n",
              "      <td>4.011643</td>\n",
              "      <td>3</td>\n",
              "    </tr>\n",
              "    <tr>\n",
              "      <th>282</th>\n",
              "      <td>7.317399</td>\n",
              "      <td>6.494090</td>\n",
              "      <td>2.039756</td>\n",
              "      <td>5.990246</td>\n",
              "      <td>6.384453</td>\n",
              "      <td>3</td>\n",
              "    </tr>\n",
              "    <tr>\n",
              "      <th>283</th>\n",
              "      <td>7.473590</td>\n",
              "      <td>7.607260</td>\n",
              "      <td>3.438473</td>\n",
              "      <td>8.959265</td>\n",
              "      <td>4.078941</td>\n",
              "      <td>3</td>\n",
              "    </tr>\n",
              "    <tr>\n",
              "      <th>284</th>\n",
              "      <td>6.030442</td>\n",
              "      <td>7.511742</td>\n",
              "      <td>2.726379</td>\n",
              "      <td>10.801544</td>\n",
              "      <td>4.350277</td>\n",
              "      <td>3</td>\n",
              "    </tr>\n",
              "    <tr>\n",
              "      <th>285</th>\n",
              "      <td>8.417127</td>\n",
              "      <td>6.794823</td>\n",
              "      <td>5.266490</td>\n",
              "      <td>7.141275</td>\n",
              "      <td>7.283294</td>\n",
              "      <td>3</td>\n",
              "    </tr>\n",
              "    <tr>\n",
              "      <th>286</th>\n",
              "      <td>5.197003</td>\n",
              "      <td>6.932888</td>\n",
              "      <td>3.312687</td>\n",
              "      <td>7.813790</td>\n",
              "      <td>6.331366</td>\n",
              "      <td>3</td>\n",
              "    </tr>\n",
              "    <tr>\n",
              "      <th>287</th>\n",
              "      <td>7.049234</td>\n",
              "      <td>8.780434</td>\n",
              "      <td>3.250029</td>\n",
              "      <td>8.065269</td>\n",
              "      <td>2.757875</td>\n",
              "      <td>3</td>\n",
              "    </tr>\n",
              "    <tr>\n",
              "      <th>288</th>\n",
              "      <td>9.934642</td>\n",
              "      <td>9.649460</td>\n",
              "      <td>2.596113</td>\n",
              "      <td>9.268863</td>\n",
              "      <td>5.213029</td>\n",
              "      <td>3</td>\n",
              "    </tr>\n",
              "    <tr>\n",
              "      <th>289</th>\n",
              "      <td>8.049203</td>\n",
              "      <td>7.720638</td>\n",
              "      <td>4.412011</td>\n",
              "      <td>10.193030</td>\n",
              "      <td>4.556135</td>\n",
              "      <td>3</td>\n",
              "    </tr>\n",
              "    <tr>\n",
              "      <th>290</th>\n",
              "      <td>8.317354</td>\n",
              "      <td>8.259269</td>\n",
              "      <td>4.804794</td>\n",
              "      <td>11.441140</td>\n",
              "      <td>4.952188</td>\n",
              "      <td>3</td>\n",
              "    </tr>\n",
              "    <tr>\n",
              "      <th>291</th>\n",
              "      <td>7.682848</td>\n",
              "      <td>8.450354</td>\n",
              "      <td>4.412456</td>\n",
              "      <td>9.199376</td>\n",
              "      <td>3.128436</td>\n",
              "      <td>3</td>\n",
              "    </tr>\n",
              "    <tr>\n",
              "      <th>292</th>\n",
              "      <td>6.510753</td>\n",
              "      <td>8.062346</td>\n",
              "      <td>1.793917</td>\n",
              "      <td>10.175172</td>\n",
              "      <td>5.322433</td>\n",
              "      <td>3</td>\n",
              "    </tr>\n",
              "    <tr>\n",
              "      <th>293</th>\n",
              "      <td>8.893360</td>\n",
              "      <td>8.568369</td>\n",
              "      <td>4.610234</td>\n",
              "      <td>9.533983</td>\n",
              "      <td>4.692704</td>\n",
              "      <td>3</td>\n",
              "    </tr>\n",
              "    <tr>\n",
              "      <th>294</th>\n",
              "      <td>6.233166</td>\n",
              "      <td>8.775993</td>\n",
              "      <td>1.014393</td>\n",
              "      <td>9.828373</td>\n",
              "      <td>5.521569</td>\n",
              "      <td>3</td>\n",
              "    </tr>\n",
              "    <tr>\n",
              "      <th>295</th>\n",
              "      <td>9.002526</td>\n",
              "      <td>8.906444</td>\n",
              "      <td>4.795640</td>\n",
              "      <td>11.040015</td>\n",
              "      <td>5.750634</td>\n",
              "      <td>3</td>\n",
              "    </tr>\n",
              "    <tr>\n",
              "      <th>296</th>\n",
              "      <td>9.199135</td>\n",
              "      <td>10.506430</td>\n",
              "      <td>5.036835</td>\n",
              "      <td>10.370934</td>\n",
              "      <td>4.292703</td>\n",
              "      <td>3</td>\n",
              "    </tr>\n",
              "    <tr>\n",
              "      <th>297</th>\n",
              "      <td>6.388461</td>\n",
              "      <td>6.977219</td>\n",
              "      <td>6.272626</td>\n",
              "      <td>6.585862</td>\n",
              "      <td>5.200981</td>\n",
              "      <td>3</td>\n",
              "    </tr>\n",
              "    <tr>\n",
              "      <th>298</th>\n",
              "      <td>8.935219</td>\n",
              "      <td>6.359700</td>\n",
              "      <td>2.616692</td>\n",
              "      <td>9.628031</td>\n",
              "      <td>6.113489</td>\n",
              "      <td>3</td>\n",
              "    </tr>\n",
              "    <tr>\n",
              "      <th>299</th>\n",
              "      <td>7.951383</td>\n",
              "      <td>4.990386</td>\n",
              "      <td>2.054832</td>\n",
              "      <td>8.750703</td>\n",
              "      <td>3.775647</td>\n",
              "      <td>3</td>\n",
              "    </tr>\n",
              "  </tbody>\n",
              "</table>\n",
              "<p>300 rows × 6 columns</p>\n",
              "</div>"
            ],
            "text/plain": [
              "             1          2         3          4         5  class\n",
              "0    -0.155740   8.483466  2.556353   2.541848  3.107236      1\n",
              "1     0.813074   7.004086 -0.276384   1.249725  6.758271      1\n",
              "2     1.576206   9.000055  0.822967   4.453127  3.203984      1\n",
              "3     0.877422   5.986066  3.358683   1.086024  5.751825      1\n",
              "4     3.190493   9.755528  3.027665   5.045105  6.602551      1\n",
              "5     1.735876   6.814249  4.920675   2.704769  6.516670      1\n",
              "6     1.071505   5.010797  2.675768   2.090113  5.417566      1\n",
              "7     3.438010   9.480069  4.326117   5.854107  5.673521      1\n",
              "8     3.200717   8.841665  4.348846   3.684833  5.952659      1\n",
              "9     2.067211   7.782264  3.585586   4.079421  6.020988      1\n",
              "10    0.052743   6.780748  6.522281   1.341263  4.509356      1\n",
              "11    3.073167   9.922905  3.331087   5.633710  4.058879      1\n",
              "12    2.088043   5.822001  5.630851   3.517283  6.025964      1\n",
              "13    2.838056   9.617202  4.604596   2.598160  4.394660      1\n",
              "14    3.601442   6.950037  4.894735   4.607410  3.653699      1\n",
              "15   -0.177118   5.677906  5.155323   1.493422  3.167775      1\n",
              "16    4.306115  10.270287  4.416560   5.544962  3.882359      1\n",
              "17    2.976094   7.918301  4.249660   3.154702  4.147799      1\n",
              "18    3.153893   7.173954  5.620704   5.004173  4.114905      1\n",
              "19    3.780341  10.270726  5.004625   5.077195  6.296809      1\n",
              "20    3.023897   7.808340  2.675600   2.337405  2.766078      1\n",
              "21    2.767502   7.083750  4.837355   4.603535  4.324033      1\n",
              "22    2.267618   8.460093  2.575558   3.185760  4.799053      1\n",
              "23    2.915572   8.869045  3.857712   1.932726  4.787784      1\n",
              "24    3.205568   7.589405  4.442216   2.542269  7.607304      1\n",
              "25    2.046378   8.302788  3.412917   3.548242  3.893970      1\n",
              "26    3.616491   7.732763  2.352656   3.190061  3.752418      1\n",
              "27    0.069888   9.723998  4.491360   3.556375  2.876280      1\n",
              "28    1.192762   8.014088  6.421612   3.335432  5.761327      1\n",
              "29    3.946110   8.135042  6.000236   2.083616  3.727809      1\n",
              "..         ...        ...       ...        ...       ...    ...\n",
              "270   6.088490   4.079099  5.316566   8.044092  5.544681      3\n",
              "271   7.195566   8.491798  3.530235   8.821097  4.199531      3\n",
              "272   7.307413   8.833002  5.712984  10.194623  5.510956      3\n",
              "273   9.195777   7.397461  1.595759   9.326886  7.198324      3\n",
              "274   8.164763   6.557178  5.434893   8.248332  3.702927      3\n",
              "275   7.452873   7.900927  1.865079   8.788873  3.895226      3\n",
              "276   6.870607   7.720663  3.677573   8.036517  5.169959      3\n",
              "277  10.448214  10.100558  7.476575  10.558237  6.214022      3\n",
              "278   6.954502   9.897524  3.346118  10.294507  5.811168      3\n",
              "279   8.118941   7.054282  4.418001   8.962460  4.578056      3\n",
              "280   7.289555   6.317710  2.078047   8.222443  4.799715      3\n",
              "281   9.568364  10.089069  2.299612  11.381471  4.011643      3\n",
              "282   7.317399   6.494090  2.039756   5.990246  6.384453      3\n",
              "283   7.473590   7.607260  3.438473   8.959265  4.078941      3\n",
              "284   6.030442   7.511742  2.726379  10.801544  4.350277      3\n",
              "285   8.417127   6.794823  5.266490   7.141275  7.283294      3\n",
              "286   5.197003   6.932888  3.312687   7.813790  6.331366      3\n",
              "287   7.049234   8.780434  3.250029   8.065269  2.757875      3\n",
              "288   9.934642   9.649460  2.596113   9.268863  5.213029      3\n",
              "289   8.049203   7.720638  4.412011  10.193030  4.556135      3\n",
              "290   8.317354   8.259269  4.804794  11.441140  4.952188      3\n",
              "291   7.682848   8.450354  4.412456   9.199376  3.128436      3\n",
              "292   6.510753   8.062346  1.793917  10.175172  5.322433      3\n",
              "293   8.893360   8.568369  4.610234   9.533983  4.692704      3\n",
              "294   6.233166   8.775993  1.014393   9.828373  5.521569      3\n",
              "295   9.002526   8.906444  4.795640  11.040015  5.750634      3\n",
              "296   9.199135  10.506430  5.036835  10.370934  4.292703      3\n",
              "297   6.388461   6.977219  6.272626   6.585862  5.200981      3\n",
              "298   8.935219   6.359700  2.616692   9.628031  6.113489      3\n",
              "299   7.951383   4.990386  2.054832   8.750703  3.775647      3\n",
              "\n",
              "[300 rows x 6 columns]"
            ]
          },
          "metadata": {
            "tags": []
          },
          "execution_count": 6
        }
      ]
    },
    {
      "cell_type": "code",
      "metadata": {
        "id": "iw3Z5lAEK1Kx",
        "colab_type": "code",
        "colab": {}
      },
      "source": [
        "X_train = df_final.drop('class', 1)\n",
        "y_train = df_final['class']"
      ],
      "execution_count": 0,
      "outputs": []
    },
    {
      "cell_type": "code",
      "metadata": {
        "id": "M-D_UXYbK1K0",
        "colab_type": "code",
        "colab": {
          "base_uri": "https://localhost:8080/",
          "height": 102
        },
        "outputId": "e5b5a8c7-f6ad-4cdd-a2c0-088367a98e06"
      },
      "source": [
        "mean1 = [2,8,4,3,5]\n",
        "mean2 = (2,8,4,9,5)\n",
        "mean3 = (8,8,4,9,5)\n",
        "\n",
        "cov = [[2, 1, 1, 1, 1], \n",
        "       [1, 2, 0, 1, 0],\n",
        "       [0, 0, 2, 0, 0], \n",
        "       [1, 1, 0, 2, 0],\n",
        "       [0, 0, 0, 0, 2]] \n",
        "\n",
        "\n",
        "class1_sample_test = np.random.multivariate_normal(mean1, cov, size=20)\n",
        "assert class1_sample_test.shape == (20,5), \"The matrix has not the dimensions 5x20\"\n",
        "\n",
        "class2_sample_test = np.random.multivariate_normal(mean2, cov, size=20)\n",
        "assert class2_sample_test.shape == (20,5), \"The matrix has not the dimensions 5x20\"\n",
        "\n",
        "class3_sample_test = np.random.multivariate_normal(mean3, cov, size=20)\n",
        "assert class3_sample_test.shape == (20,5), \"The matrix has not the dimensions 5x20\""
      ],
      "execution_count": 9,
      "outputs": [
        {
          "output_type": "stream",
          "text": [
            "/usr/local/lib/python3.6/dist-packages/ipykernel_launcher.py:12: RuntimeWarning: covariance is not symmetric positive-semidefinite.\n",
            "  if sys.path[0] == '':\n",
            "/usr/local/lib/python3.6/dist-packages/ipykernel_launcher.py:15: RuntimeWarning: covariance is not symmetric positive-semidefinite.\n",
            "  from ipykernel import kernelapp as app\n",
            "/usr/local/lib/python3.6/dist-packages/ipykernel_launcher.py:18: RuntimeWarning: covariance is not symmetric positive-semidefinite.\n"
          ],
          "name": "stderr"
        }
      ]
    },
    {
      "cell_type": "code",
      "metadata": {
        "id": "RpGvbeuKK1K3",
        "colab_type": "code",
        "colab": {}
      },
      "source": [
        "df1_test = pd.DataFrame(data=class1_sample_test, index=np.arange(1, 21),columns=np.arange(1, 6))\n",
        "df1_test['class'] = 1\n",
        "\n",
        "df2_test = pd.DataFrame(data=class2_sample_test, index=np.arange(1, 21),columns=np.arange(1, 6))\n",
        "df2_test['class'] = 2\n",
        "\n",
        "df3_test = pd.DataFrame(data=class3_sample_test, index=np.arange(1, 21),columns=np.arange(1, 6))\n",
        "df3_test['class'] = 3"
      ],
      "execution_count": 0,
      "outputs": []
    },
    {
      "cell_type": "code",
      "metadata": {
        "id": "-g0wWJ5uK1K5",
        "colab_type": "code",
        "colab": {}
      },
      "source": [
        "df_final_test = df1_test.append([df2_test, df3_test], ignore_index=True)"
      ],
      "execution_count": 0,
      "outputs": []
    },
    {
      "cell_type": "code",
      "metadata": {
        "scrolled": true,
        "id": "_tbA1PqvK1K9",
        "colab_type": "code",
        "colab": {}
      },
      "source": [
        "X_test = df_final_test.drop('class', 1)\n",
        "y_test = df_final_test['class']"
      ],
      "execution_count": 0,
      "outputs": []
    },
    {
      "cell_type": "markdown",
      "metadata": {
        "colab_type": "text",
        "id": "bEoRZy511-p6"
      },
      "source": [
        "#Decision Tree"
      ]
    },
    {
      "cell_type": "code",
      "metadata": {
        "colab_type": "code",
        "id": "DlM74i5S2DUJ",
        "colab": {
          "base_uri": "https://localhost:8080/",
          "height": 119
        },
        "outputId": "86d0cd03-3196-4207-85a5-9edf9e31cbc0"
      },
      "source": [
        "#1 Classify the data using decision tree\n",
        "from sklearn.tree import DecisionTreeClassifier\n",
        "clf = DecisionTreeClassifier(max_depth=5)\n",
        "clf.fit(X_train, y_train)"
      ],
      "execution_count": 15,
      "outputs": [
        {
          "output_type": "execute_result",
          "data": {
            "text/plain": [
              "DecisionTreeClassifier(class_weight=None, criterion='gini', max_depth=5,\n",
              "                       max_features=None, max_leaf_nodes=None,\n",
              "                       min_impurity_decrease=0.0, min_impurity_split=None,\n",
              "                       min_samples_leaf=1, min_samples_split=2,\n",
              "                       min_weight_fraction_leaf=0.0, presort=False,\n",
              "                       random_state=None, splitter='best')"
            ]
          },
          "metadata": {
            "tags": []
          },
          "execution_count": 15
        }
      ]
    },
    {
      "cell_type": "code",
      "metadata": {
        "id": "kgy-LI5eK1LG",
        "colab_type": "code",
        "colab": {}
      },
      "source": [
        "y_pred_dtc = clf.predict(X_test)"
      ],
      "execution_count": 0,
      "outputs": []
    },
    {
      "cell_type": "code",
      "metadata": {
        "id": "2kN7b0H7K1LJ",
        "colab_type": "code",
        "colab": {
          "base_uri": "https://localhost:8080/",
          "height": 34
        },
        "outputId": "58415b00-1063-45de-cefb-896665858629"
      },
      "source": [
        "from sklearn import metrics\n",
        "\n",
        "metrics.accuracy_score(y_test,y_pred_dtc)*100"
      ],
      "execution_count": 17,
      "outputs": [
        {
          "output_type": "execute_result",
          "data": {
            "text/plain": [
              "98.33333333333333"
            ]
          },
          "metadata": {
            "tags": []
          },
          "execution_count": 17
        }
      ]
    },
    {
      "cell_type": "markdown",
      "metadata": {
        "colab_type": "text",
        "id": "xWEDrjmX2RQJ"
      },
      "source": [
        "#KNN"
      ]
    },
    {
      "cell_type": "code",
      "metadata": {
        "colab_type": "code",
        "id": "nx5guX132TFo",
        "colab": {
          "base_uri": "https://localhost:8080/",
          "height": 68
        },
        "outputId": "8a4401a0-9e23-4df8-d8da-7aae7ede474f"
      },
      "source": [
        "#1 Classify the data using KNN\n",
        "from sklearn.neighbors import KNeighborsClassifier\n",
        "neigh = KNeighborsClassifier(n_neighbors=11, weights='distance', algorithm='brute', leaf_size=100)\n",
        "neigh.fit(X_train, y_train)"
      ],
      "execution_count": 18,
      "outputs": [
        {
          "output_type": "execute_result",
          "data": {
            "text/plain": [
              "KNeighborsClassifier(algorithm='brute', leaf_size=100, metric='minkowski',\n",
              "                     metric_params=None, n_jobs=None, n_neighbors=11, p=2,\n",
              "                     weights='distance')"
            ]
          },
          "metadata": {
            "tags": []
          },
          "execution_count": 18
        }
      ]
    },
    {
      "cell_type": "code",
      "metadata": {
        "id": "YyeGnLmJK1LQ",
        "colab_type": "code",
        "colab": {}
      },
      "source": [
        "y_pred = neigh.predict(X_test)"
      ],
      "execution_count": 0,
      "outputs": []
    },
    {
      "cell_type": "code",
      "metadata": {
        "id": "nm-cjEJyK1LS",
        "colab_type": "code",
        "colab": {
          "base_uri": "https://localhost:8080/",
          "height": 68
        },
        "outputId": "fa798e16-ce17-4473-becb-8484f2fcca50"
      },
      "source": [
        "y_pred"
      ],
      "execution_count": 20,
      "outputs": [
        {
          "output_type": "execute_result",
          "data": {
            "text/plain": [
              "array([1, 1, 1, 1, 1, 1, 1, 1, 1, 1, 1, 1, 1, 1, 1, 1, 1, 1, 1, 1, 2, 2,\n",
              "       2, 2, 2, 2, 2, 2, 2, 2, 2, 2, 2, 2, 2, 2, 2, 2, 2, 3, 3, 3, 3, 3,\n",
              "       3, 3, 3, 3, 3, 3, 3, 3, 3, 3, 3, 3, 3, 3, 3, 3])"
            ]
          },
          "metadata": {
            "tags": []
          },
          "execution_count": 20
        }
      ]
    },
    {
      "cell_type": "code",
      "metadata": {
        "id": "tgTOfOsJK1LV",
        "colab_type": "code",
        "colab": {
          "base_uri": "https://localhost:8080/",
          "height": 34
        },
        "outputId": "ba21d583-63a2-442b-952e-1ef06c979359"
      },
      "source": [
        "from sklearn import metrics\n",
        "\n",
        "metrics.accuracy_score(y_test,y_pred)*100"
      ],
      "execution_count": 22,
      "outputs": [
        {
          "output_type": "execute_result",
          "data": {
            "text/plain": [
              "98.33333333333333"
            ]
          },
          "metadata": {
            "tags": []
          },
          "execution_count": 22
        }
      ]
    },
    {
      "cell_type": "markdown",
      "metadata": {
        "colab_type": "text",
        "id": "n8RqHr4nxrYS"
      },
      "source": [
        "#PCA 5D to 2D"
      ]
    },
    {
      "cell_type": "code",
      "metadata": {
        "colab_type": "code",
        "id": "_vhW__Zcw0fF",
        "colab": {}
      },
      "source": [
        "#1. Taking the whole dataset ignoring the class labels\n",
        "\n",
        "#all_samples = \n",
        "#assert all_samples.shape == (3,40), \"The matrix has not the dimensions 3x40\"\n",
        "\n"
      ],
      "execution_count": 0,
      "outputs": []
    },
    {
      "cell_type": "code",
      "metadata": {
        "colab_type": "code",
        "id": "dqbYcqEbxCF_",
        "outputId": "f3ccb086-8c0e-4852-8095-527ebe95e475",
        "colab": {
          "base_uri": "https://localhost:8080/",
          "height": 136
        }
      },
      "source": [
        "#2. Computing the d-dimensional mean vector\n",
        "\n",
        "mean_vector = np.mean(X_train, axis=0)\n",
        "print('Mean Vector:\\n', mean_vector)"
      ],
      "execution_count": 23,
      "outputs": [
        {
          "output_type": "stream",
          "text": [
            "Mean Vector:\n",
            " 1    4.019267\n",
            "2    7.912167\n",
            "3    4.042535\n",
            "4    6.938279\n",
            "5    5.021598\n",
            "dtype: float64\n"
          ],
          "name": "stdout"
        }
      ]
    },
    {
      "cell_type": "code",
      "metadata": {
        "colab_type": "code",
        "id": "I6ZaLOzhxPrm",
        "outputId": "291f59b0-6b5b-4196-d737-00ac0ce1322a",
        "colab": {
          "base_uri": "https://localhost:8080/",
          "height": 204
        }
      },
      "source": [
        "#3.Computing the Covariance Matrix \n",
        "\n",
        "y= X_train.T\n",
        "\n",
        "cov_mat = np.cov(y)\n",
        "print('Covariance Matrix:\\n', cov_mat)\n"
      ],
      "execution_count": 24,
      "outputs": [
        {
          "output_type": "stream",
          "text": [
            "Covariance Matrix:\n",
            " [[ 8.47896516e+00  5.72544197e-01  7.83693878e-02  4.52159605e+00\n",
            "   1.70744618e-01]\n",
            " [ 5.72544197e-01  1.85127162e+00  2.13316201e-01  5.25474158e-01\n",
            "  -7.47912764e-03]\n",
            " [ 7.83693878e-02  2.13316201e-01  2.09304223e+00 -1.65173421e-01\n",
            "   6.05671387e-02]\n",
            " [ 4.52159605e+00  5.25474158e-01 -1.65173421e-01  9.50286387e+00\n",
            "  -1.14044408e-01]\n",
            " [ 1.70744618e-01 -7.47912764e-03  6.05671387e-02 -1.14044408e-01\n",
            "   1.97660518e+00]]\n"
          ],
          "name": "stdout"
        }
      ]
    },
    {
      "cell_type": "code",
      "metadata": {
        "id": "ZCByaV3PK1Ll",
        "colab_type": "code",
        "colab": {
          "base_uri": "https://localhost:8080/",
          "height": 34
        },
        "outputId": "49c17066-2b82-40f8-b0ac-90d4cf941331"
      },
      "source": [
        "cov_mat.shape"
      ],
      "execution_count": 25,
      "outputs": [
        {
          "output_type": "execute_result",
          "data": {
            "text/plain": [
              "(5, 5)"
            ]
          },
          "metadata": {
            "tags": []
          },
          "execution_count": 25
        }
      ]
    },
    {
      "cell_type": "code",
      "metadata": {
        "colab_type": "code",
        "id": "GT0qX0K-yQFx",
        "colab": {}
      },
      "source": [
        "#4. Compute eigenvectors and corresponding eigenvalues\n",
        "from scipy import linalg as LA\n",
        "\n",
        "eig_val_cov, eig_vec_cov = LA.eig(cov_mat)\n"
      ],
      "execution_count": 0,
      "outputs": []
    },
    {
      "cell_type": "code",
      "metadata": {
        "id": "c0pwClytK1Lq",
        "colab_type": "code",
        "colab": {
          "base_uri": "https://localhost:8080/",
          "height": 102
        },
        "outputId": "47f6ad37-9a0b-4105-d44a-a912462249e5"
      },
      "source": [
        "eig_vec_cov"
      ],
      "execution_count": 27,
      "outputs": [
        {
          "output_type": "execute_result",
          "data": {
            "text/plain": [
              "array([[ 0.66508163,  0.73896225, -0.04325709, -0.0870724 , -0.04635126],\n",
              "       [ 0.06563099,  0.03430799,  0.86839633,  0.45641442, -0.17913467],\n",
              "       [-0.00492174,  0.07556377, -0.47535127,  0.87415858, -0.06445036],\n",
              "       [ 0.74386087, -0.66349587, -0.04150125,  0.04293016,  0.05365529],\n",
              "       [ 0.00240503,  0.08258998,  0.12781025,  0.13456619,  0.97914738]])"
            ]
          },
          "metadata": {
            "tags": []
          },
          "execution_count": 27
        }
      ]
    },
    {
      "cell_type": "code",
      "metadata": {
        "id": "ttOa_J_JK1Lv",
        "colab_type": "code",
        "colab": {}
      },
      "source": [
        "eig_pairs = LA.eig(cov_mat)"
      ],
      "execution_count": 0,
      "outputs": []
    },
    {
      "cell_type": "code",
      "metadata": {
        "id": "xbOGqeROK1Lx",
        "colab_type": "code",
        "colab": {
          "base_uri": "https://localhost:8080/",
          "height": 34
        },
        "outputId": "5937d37a-15d5-425c-d6cb-aaf26165f42b"
      },
      "source": [
        "len(eig_pairs)"
      ],
      "execution_count": 33,
      "outputs": [
        {
          "output_type": "execute_result",
          "data": {
            "text/plain": [
              "2"
            ]
          },
          "metadata": {
            "tags": []
          },
          "execution_count": 33
        }
      ]
    },
    {
      "cell_type": "code",
      "metadata": {
        "colab_type": "code",
        "id": "aTSFbc_5yoj_",
        "outputId": "8d0a2417-4280-4253-e583-2aea350841e4",
        "colab": {
          "base_uri": "https://localhost:8080/",
          "height": 102
        }
      },
      "source": [
        "#5 Sort the eigenvectors by decreasing eigenvalues\n",
        "\n",
        "    \n",
        "# Make a list/data frame of (eigenvalue, eigenvector) tuples\n",
        "eig_pairs = []\n",
        "\n",
        "for i in range (len(eig_val_cov)):\n",
        "    temp = (eig_val_cov[i], eig_vec_cov[i])\n",
        "    eig_pairs.append(temp)\n",
        "# Sort the (eigenvalue, eigenvector) tuples from high to low\n",
        "\n",
        "\n",
        "# Visually confirm that the list is correctly sorted by decreasing eigenvalues\n",
        "for i in eig_pairs:\n",
        "    print(i[0])"
      ],
      "execution_count": 34,
      "outputs": [
        {
          "output_type": "stream",
          "text": [
            "(13.592683176246549+0j)\n",
            "(4.472814923448944+0j)\n",
            "(1.6797710561872103+0j)\n",
            "(2.1978243049235435+0j)\n",
            "(1.9596545999103154+0j)\n"
          ],
          "name": "stdout"
        }
      ]
    },
    {
      "cell_type": "code",
      "metadata": {
        "id": "h9o-KYEGK1L1",
        "colab_type": "code",
        "colab": {}
      },
      "source": [
        "matrix_w = []\n",
        "for i in range(2):\n",
        "    matrix_w.append(eig_pairs[i][1].tolist())"
      ],
      "execution_count": 0,
      "outputs": []
    },
    {
      "cell_type": "code",
      "metadata": {
        "id": "D7HIlmH9K1L3",
        "colab_type": "code",
        "colab": {}
      },
      "source": [
        "zzz = np.array(matrix_w)"
      ],
      "execution_count": 0,
      "outputs": []
    },
    {
      "cell_type": "code",
      "metadata": {
        "id": "mqmt_NYrK1L5",
        "colab_type": "code",
        "colab": {
          "base_uri": "https://localhost:8080/",
          "height": 51
        },
        "outputId": "6d8045a9-bee4-4242-ed5c-a99624a4049d"
      },
      "source": [
        "zzz"
      ],
      "execution_count": 37,
      "outputs": [
        {
          "output_type": "execute_result",
          "data": {
            "text/plain": [
              "array([[ 0.66508163,  0.73896225, -0.04325709, -0.0870724 , -0.04635126],\n",
              "       [ 0.06563099,  0.03430799,  0.86839633,  0.45641442, -0.17913467]])"
            ]
          },
          "metadata": {
            "tags": []
          },
          "execution_count": 37
        }
      ]
    },
    {
      "cell_type": "code",
      "metadata": {
        "colab_type": "code",
        "id": "SBoUjLOpzAUR",
        "outputId": "a8493432-2035-4e4c-e7cf-3448b90c7e53",
        "colab": {
          "base_uri": "https://localhost:8080/",
          "height": 71
        }
      },
      "source": [
        "#6 Choosing k eigenvectors with the largest eigenvalues\n",
        "k=2\n",
        "#matrix_w = \n",
        "print('Matrix W:\\n', matrix_w)"
      ],
      "execution_count": 38,
      "outputs": [
        {
          "output_type": "stream",
          "text": [
            "Matrix W:\n",
            " [[0.665081632791004, 0.7389622483864436, -0.04325708624849818, -0.0870723968133176, -0.04635126089092488], [0.06563098606044578, 0.03430799283256588, 0.8683963279472687, 0.45641442188306797, -0.17913466554907523]]\n"
          ],
          "name": "stdout"
        }
      ]
    },
    {
      "cell_type": "code",
      "metadata": {
        "colab_type": "code",
        "id": "cRd1bTY6zHji",
        "outputId": "defac04d-6069-4fd2-e1e4-a683885b8245",
        "colab": {
          "base_uri": "https://localhost:8080/",
          "height": 330
        }
      },
      "source": [
        "#7 Transforming the samples onto the new subspace\n",
        "\n",
        "transformed = np.matmul(matrix_w, (X_train.as_matrix()).T)\n",
        "#assert transformed.shape == (2,40), \"The matrix is not 2x40 dimensional.\"\n",
        "\n",
        "plt.plot(transformed[0,0:20], transformed[1,0:20], 'o', markersize=7, color='blue', alpha=0.5, label='class1')\n",
        "plt.plot(transformed[0,20:40], transformed[1,20:40], '^', markersize=7, color='red', alpha=0.5, label='class2')\n",
        "#plt.xlim([-4,4])\n",
        "#plt.ylim([-4,4])\n",
        "plt.xlabel('x_values')\n",
        "plt.ylabel('y_values')\n",
        "plt.legend()\n",
        "plt.title('Transformed samples with class labels')\n",
        "\n",
        "plt.show()"
      ],
      "execution_count": 39,
      "outputs": [
        {
          "output_type": "stream",
          "text": [
            "/usr/local/lib/python3.6/dist-packages/ipykernel_launcher.py:2: FutureWarning: Method .as_matrix will be removed in a future version. Use .values instead.\n",
            "  \n"
          ],
          "name": "stderr"
        },
        {
          "output_type": "display_data",
          "data": {
            "image/png": "[encoded data removed]",
            "text/plain": [
              "<Figure size 432x288 with 1 Axes>"
            ]
          },
          "metadata": {
            "tags": []
          }
        }
      ]
    },
    {
      "cell_type": "markdown",
      "metadata": {
        "colab_type": "text",
        "id": "JVRDXbTk2jjr"
      },
      "source": [
        "#Decision Tree"
      ]
    },
    {
      "cell_type": "code",
      "metadata": {
        "id": "pvLdMcYLRtWl",
        "colab_type": "code",
        "colab": {
          "base_uri": "https://localhost:8080/",
          "height": 68
        },
        "outputId": "e85e3105-8651-4d0a-bd4c-2e050f441d5c"
      },
      "source": [
        "transformed_T = transformed.T\n",
        "transformed_test= np.matmul(matrix_w, (X_test.as_matrix()).T)\n",
        "transformed_test_T= transformed_test.T\n",
        "print(transformed_test.shape)"
      ],
      "execution_count": 49,
      "outputs": [
        {
          "output_type": "stream",
          "text": [
            "(2, 60)\n"
          ],
          "name": "stdout"
        },
        {
          "output_type": "stream",
          "text": [
            "/usr/local/lib/python3.6/dist-packages/ipykernel_launcher.py:2: FutureWarning: Method .as_matrix will be removed in a future version. Use .values instead.\n",
            "  \n"
          ],
          "name": "stderr"
        }
      ]
    },
    {
      "cell_type": "code",
      "metadata": {
        "colab_type": "code",
        "id": "CB8svHhO2jjw",
        "colab": {}
      },
      "source": [
        "#1 Classify the data using decision tree\n",
        "\n",
        "clf = DecisionTreeClassifier(max_depth=2)\n",
        "clf = clf.fit(transformed_T,y_train)\n",
        "y_pred = clf.predict(transformed_test_T)"
      ],
      "execution_count": 0,
      "outputs": []
    },
    {
      "cell_type": "code",
      "metadata": {
        "id": "Yla39u2BRrya",
        "colab_type": "code",
        "colab": {
          "base_uri": "https://localhost:8080/",
          "height": 34
        },
        "outputId": "08ca251f-770e-445d-9bf6-5db53a14f0e5"
      },
      "source": [
        "metrics.accuracy_score(y_test,y_pred)*100"
      ],
      "execution_count": 51,
      "outputs": [
        {
          "output_type": "execute_result",
          "data": {
            "text/plain": [
              "73.33333333333333"
            ]
          },
          "metadata": {
            "tags": []
          },
          "execution_count": 51
        }
      ]
    },
    {
      "cell_type": "markdown",
      "metadata": {
        "colab_type": "text",
        "id": "8Lp-5cC_2jjz"
      },
      "source": [
        "#KNN"
      ]
    },
    {
      "cell_type": "code",
      "metadata": {
        "colab_type": "code",
        "id": "cOxB3T6T2jj0",
        "colab": {
          "base_uri": "https://localhost:8080/",
          "height": 170
        },
        "outputId": "bc9b6b48-20d6-423d-9911-9924744d5964"
      },
      "source": [
        "#1 Classify the data using KNN\n",
        "\n",
        "k_array=range(1,10)\n",
        "for k in k_array:\n",
        "  KNN = KNeighborsClassifier(n_neighbors = k)\n",
        "  KNN.fit(transformed_T,y_train)\n",
        "\n",
        "  y_pred = KNN.predict(transformed_test_T)\n",
        "\n",
        "  success=0\n",
        "  fail=0\n",
        "  for i in range(len(y_pred)):\n",
        "    if(y_pred[i]==y_test[i]):\n",
        "      success+=1\n",
        "    else:\n",
        "      fail+=1\n",
        "  accuracy=success*100/(success+fail)\n",
        "  print(\"Accuracy for k=\"+str(k)+\" is:\"+str(accuracy))"
      ],
      "execution_count": 54,
      "outputs": [
        {
          "output_type": "stream",
          "text": [
            "Accuracy for k=1 is:76.66666666666667\n",
            "Accuracy for k=2 is:76.66666666666667\n",
            "Accuracy for k=3 is:80.0\n",
            "Accuracy for k=4 is:85.0\n",
            "Accuracy for k=5 is:78.33333333333333\n",
            "Accuracy for k=6 is:80.0\n",
            "Accuracy for k=7 is:81.66666666666667\n",
            "Accuracy for k=8 is:80.0\n",
            "Accuracy for k=9 is:80.0\n"
          ],
          "name": "stdout"
        }
      ]
    },
    {
      "cell_type": "code",
      "metadata": {
        "id": "sO40ETtMSv4C",
        "colab_type": "code",
        "colab": {}
      },
      "source": [
        ""
      ],
      "execution_count": 0,
      "outputs": []
    }
  ]
}